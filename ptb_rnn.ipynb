{
 "cells": [
  {
   "cell_type": "code",
   "execution_count": null,
   "metadata": {},
   "outputs": [],
   "source": [
    "import numpy as np\n",
    "from ptb_data.dataset import get_vocab, url, file_names\n",
    "from layers.RNN.embedding import Embedding\n",
    "from layers.RNN.recurrent_neural_network import Recurrent_Neural_Network as RNN\n",
    "from layers.affine import Affine\n",
    "from layers.softmax import Softmax\n",
    "from functions.UtilityFunctions import scale\n",
    "from models.model import Model\n",
    "from models.trainer import Trainer\n",
    "from models.optimizer import SGD, AdaGrad, Momentum, RMSprop, Adam\n",
    "from functions.EvaluationFunctions import Metrics, TYPE\n",
    "from functions.LossFunctions import categorical_cross_entropy"
   ]
  },
  {
   "cell_type": "code",
   "execution_count": null,
   "metadata": {},
   "outputs": [],
   "source": [
    "#データ取得\n",
    "corpus, word_to_id, id_to_word = get_vocab(url, file_names[0])\n",
    "corpus = corpus[:5000]\n",
    "vocab_size = max(corpus) + 1\n",
    "xs = corpus[:-1]\n",
    "ts = corpus[1:]\n",
    "print(vocab_size)"
   ]
  },
  {
   "cell_type": "code",
   "execution_count": null,
   "metadata": {},
   "outputs": [],
   "source": [
    "#モデル生成\n",
    "wordvec_size = 100\n",
    "hidden_size = 100\n",
    "epoch_size = 200\n",
    "batch_size = 10\n",
    "time_size = 5\n",
    "\n",
    "m = Model()\n",
    "m.append(Embedding(scale(vocab_size) * np.random.randn(vocab_size, wordvec_size)))\n",
    "m.append(RNN(scale(wordvec_size) * np.random.randn(wordvec_size, hidden_size),\n",
    "             scale(hidden_size) * np.random.randn(hidden_size, hidden_size),\n",
    "             np.zeros(hidden_size),\n",
    "             stateful=True))\n",
    "m.append(Affine(scale(hidden_size) * np.random.randn(hidden_size, vocab_size), np.zeros(vocab_size)))\n",
    "m.append(Softmax())\n",
    "m.summary()"
   ]
  },
  {
   "cell_type": "code",
   "execution_count": null,
   "metadata": {},
   "outputs": [],
   "source": []
  }
 ],
 "metadata": {
  "kernelspec": {
   "display_name": "Python 3",
   "language": "python",
   "name": "python3"
  },
  "language_info": {
   "codemirror_mode": {
    "name": "ipython",
    "version": 3
   },
   "file_extension": ".py",
   "mimetype": "text/x-python",
   "name": "python",
   "nbconvert_exporter": "python",
   "pygments_lexer": "ipython3",
   "version": "3.7.3"
  }
 },
 "nbformat": 4,
 "nbformat_minor": 2
}
