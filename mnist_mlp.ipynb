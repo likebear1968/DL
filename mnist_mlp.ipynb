{
 "cells": [
  {
   "cell_type": "code",
   "execution_count": null,
   "metadata": {},
   "outputs": [],
   "source": [
    "import numpy as np\n",
    "from dataset import get_images, get_labels, url, file_names\n",
    "from layers.affine import Affine\n",
    "from layers.batchNormalization import BatchNormalization\n",
    "from layers.relu import Relu\n",
    "from layers.dropout import Dropout\n",
    "from layers.softmax import Softmax\n",
    "from functions.UtilityFunctions import scale\n",
    "from models.model import Model\n",
    "from models.trainer import Trainer\n",
    "from models.optimizer import SGD, AdaGrad, Momentum, RMSprop, Adam\n",
    "from functions.EvaluationFunctions import Metrics, TYPE\n",
    "from functions.LossFunctions import categorical_cross_entropy"
   ]
  },
  {
   "cell_type": "code",
   "execution_count": null,
   "metadata": {},
   "outputs": [],
   "source": [
    "#データセット読み込み\n",
    "x_train = get_images(url, file_names[0])\n",
    "t_train = get_labels(url, file_names[1])\n",
    "x_test = get_images(url, file_names[2])\n",
    "t_test = get_labels(url, file_names[3])\n",
    "print(x_train.shape)\n",
    "print(t_train.shape)\n",
    "print(x_test.shape)\n",
    "print(t_test.shape)"
   ]
  },
  {
   "cell_type": "code",
   "execution_count": null,
   "metadata": {},
   "outputs": [],
   "source": [
    "#モデル生成\n",
    "m = Model()\n",
    "m.append(Affine(scale(784) * np.random.randn(784, 100), np.zeros(100)))\n",
    "m.append(BatchNormalization(np.ones(100), np.zeros(100)))\n",
    "m.append(Relu())\n",
    "m.append(Affine(scale(100) * np.random.randn(100, 10), np.zeros(10)))\n",
    "m.append(Softmax())\n",
    "m.summary()"
   ]
  },
  {
   "cell_type": "code",
   "execution_count": null,
   "metadata": {},
   "outputs": [],
   "source": [
    "#学習\n",
    "t = Trainer(\n",
    "    model=m,\n",
    "    optimizer=SGD(lr=0.1),\n",
    "    loss=categorical_cross_entropy,\n",
    "    metrics=[Metrics(TYPE.ACC, ncls=10), Metrics(TYPE.F1, ncls=10)]\n",
    ")\n",
    "t.fit(x_train, t_train, 10, 100)"
   ]
  },
  {
   "cell_type": "code",
   "execution_count": null,
   "metadata": {},
   "outputs": [],
   "source": [
    "#検証\n",
    "t.predict(x_test, t_test)"
   ]
  }
 ],
 "metadata": {
  "kernelspec": {
   "display_name": "Python 3",
   "language": "python",
   "name": "python3"
  },
  "language_info": {
   "codemirror_mode": {
    "name": "ipython",
    "version": 3
   },
   "file_extension": ".py",
   "mimetype": "text/x-python",
   "name": "python",
   "nbconvert_exporter": "python",
   "pygments_lexer": "ipython3",
   "version": "3.7.3"
  }
 },
 "nbformat": 4,
 "nbformat_minor": 2
}
