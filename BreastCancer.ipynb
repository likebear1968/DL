{
 "cells": [
  {
   "cell_type": "code",
   "execution_count": null,
   "metadata": {},
   "outputs": [],
   "source": [
    "import numpy as np\n",
    "from sklearn.datasets import load_breast_cancer\n",
    "from sklearn.model_selection import StratifiedShuffleSplit\n",
    "from layers.affine import Affine\n",
    "from layers.batchNormalization import BatchNormalization\n",
    "from layers.relu import Relu\n",
    "from layers.dropout import Dropout\n",
    "from layers.sigmoid import Sigmoid\n",
    "from functions.UtilityFunctions import scale\n",
    "from models.model import Model\n",
    "from models.trainer import Trainer\n",
    "from models.optimizer import SGD, AdaGrad, Momentum, RMSprop, Adam\n",
    "from functions.EvaluationFunctions import Metrics, TYPE\n",
    "from functions.LossFunctions import binary_cross_entropy"
   ]
  },
  {
   "cell_type": "code",
   "execution_count": null,
   "metadata": {},
   "outputs": [],
   "source": [
    "#データセット読み込み\n",
    "data = load_breast_cancer()\n",
    "x = data.data\n",
    "y = data.target\n",
    "ss = StratifiedShuffleSplit(n_splits=2, train_size=0.7, random_state=0)\n",
    "train_idx, test_idx = ss.split(x, y)\n",
    "x_train, x_test, t_train, t_test = x[train_idx[0]], x[train_idx[1]], y[train_idx[0]], y[train_idx[1]]\n",
    "print(x_train.shape)\n",
    "print(t_train.shape)\n",
    "print(x_test.shape)\n",
    "print(t_test.shape)"
   ]
  },
  {
   "cell_type": "code",
   "execution_count": null,
   "metadata": {},
   "outputs": [],
   "source": [
    "#学習\n",
    "m = Model()\n",
    "m.append(Affine(scale(30) * np.random.randn(30, 100), np.zeros(100)))\n",
    "m.append(BatchNormalization(np.ones(100), np.zeros(100)))\n",
    "m.append(Relu())\n",
    "m.append(Dropout())\n",
    "\n",
    "#m.append(Affine(scale(100) * np.random.randn(100, 100), np.zeros(100)))\n",
    "#m.append(BatchNormalization(np.ones(100), np.zeros(100)))\n",
    "#m.append(Relu())\n",
    "#m.append(Dropout())\n",
    "\n",
    "m.append(Affine(scale(100) * np.random.randn(100, 1), np.zeros(1)))\n",
    "m.append(Sigmoid())\n",
    "m.summary(np.zeros_like(x_train[[0]]))"
   ]
  },
  {
   "cell_type": "code",
   "execution_count": null,
   "metadata": {},
   "outputs": [],
   "source": [
    "#学習\n",
    "t = Trainer(\n",
    "    model=m,\n",
    "    optimizer=AdaGrad(lr=0.1),\n",
    "    loss=binary_cross_entropy,\n",
    "    metrics=[Metrics(TYPE.ACC, ncls=2), Metrics(TYPE.F1, ncls=2)]\n",
    ")\n",
    "t.fit(x_train, t_train, 10, 50)"
   ]
  },
  {
   "cell_type": "code",
   "execution_count": null,
   "metadata": {},
   "outputs": [],
   "source": [
    "#検証\n",
    "t.predict(x_test, t_test)"
   ]
  }
 ],
 "metadata": {
  "kernelspec": {
   "display_name": "Python 3",
   "language": "python",
   "name": "python3"
  },
  "language_info": {
   "codemirror_mode": {
    "name": "ipython",
    "version": 3
   },
   "file_extension": ".py",
   "mimetype": "text/x-python",
   "name": "python",
   "nbconvert_exporter": "python",
   "pygments_lexer": "ipython3",
   "version": "3.7.3"
  }
 },
 "nbformat": 4,
 "nbformat_minor": 2
}
